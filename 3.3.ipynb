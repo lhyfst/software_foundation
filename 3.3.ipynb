{
 "cells": [
  {
   "cell_type": "code",
   "execution_count": 1,
   "metadata": {
    "ExecuteTime": {
     "end_time": "2018-05-01T15:20:29.379815Z",
     "start_time": "2018-05-01T15:20:28.922848Z"
    }
   },
   "outputs": [
    {
     "name": "stdout",
     "output_type": "stream",
     "text": [
      "Populating the interactive namespace from numpy and matplotlib\n"
     ]
    }
   ],
   "source": [
    "%pylab inline\n",
    "\n",
    "class Graph():\n",
    "    def __init__(self,ralations):\n",
    "        self.ralations = ralations\n",
    "    \n",
    "    def out_degree(self):\n",
    "        # 出度\n",
    "        print '出度',\n",
    "        for i in self.ralations:\n",
    "            print sum(i),\n",
    "    \n",
    "    def in_degree(self):\n",
    "        # 入度\n",
    "        print '入度',\n",
    "        for j in range(len(self.ralations)):\n",
    "            print sum(self.ralations[:,j]),\n",
    "\n",
    "    def find_out_degree_max_point(self):\n",
    "        # 求出图G中出度最大的一个顶点，并输出该顶点编号。\n",
    "        print '求出图G中出度最大的一个顶点，并输出该顶点编号'\n",
    "        out_degree = []\n",
    "        for i in self.ralations:\n",
    "            out_degree.append(sum(i))\n",
    "        print max(out_degree),\n",
    "        print argmax(out_degree)\n",
    "\n",
    "    def exist_arc(self,from_point,to_point):\n",
    "        print '判断图G中是否存在边<I,j>'\n",
    "        if self.ralations[from_point,to_point]:\n",
    "            print 'exist'\n",
    "        else:\n",
    "            print 'not exist'"
   ]
  },
  {
   "cell_type": "code",
   "execution_count": 2,
   "metadata": {
    "ExecuteTime": {
     "end_time": "2018-05-01T15:20:30.589731Z",
     "start_time": "2018-05-01T15:20:30.585298Z"
    }
   },
   "outputs": [],
   "source": [
    "ralations = array([[0,1,1,0],\n",
    "                  [0,0,0,1],\n",
    "                  [0,0,0,0],\n",
    "                  [1,0,0,0]])"
   ]
  },
  {
   "cell_type": "code",
   "execution_count": 3,
   "metadata": {
    "ExecuteTime": {
     "end_time": "2018-05-01T15:20:31.766057Z",
     "start_time": "2018-05-01T15:20:31.762592Z"
    }
   },
   "outputs": [],
   "source": [
    "graph = Graph(ralations)"
   ]
  },
  {
   "cell_type": "code",
   "execution_count": 4,
   "metadata": {
    "ExecuteTime": {
     "end_time": "2018-05-01T15:20:32.754760Z",
     "start_time": "2018-05-01T15:20:32.750120Z"
    }
   },
   "outputs": [
    {
     "name": "stdout",
     "output_type": "stream",
     "text": [
      "出度 2 1 0 1\n"
     ]
    }
   ],
   "source": [
    "graph.out_degree()"
   ]
  },
  {
   "cell_type": "code",
   "execution_count": 5,
   "metadata": {
    "ExecuteTime": {
     "end_time": "2018-05-01T15:20:33.682597Z",
     "start_time": "2018-05-01T15:20:33.674072Z"
    }
   },
   "outputs": [
    {
     "name": "stdout",
     "output_type": "stream",
     "text": [
      "入度 1 1 1 1\n"
     ]
    }
   ],
   "source": [
    "graph.in_degree()"
   ]
  },
  {
   "cell_type": "code",
   "execution_count": 6,
   "metadata": {
    "ExecuteTime": {
     "end_time": "2018-05-01T15:20:34.620604Z",
     "start_time": "2018-05-01T15:20:34.615748Z"
    }
   },
   "outputs": [
    {
     "name": "stdout",
     "output_type": "stream",
     "text": [
      "求出图G中出度最大的一个顶点，并输出该顶点编号\n",
      "2 0\n"
     ]
    }
   ],
   "source": [
    "graph.find_out_degree_max_point()"
   ]
  },
  {
   "cell_type": "code",
   "execution_count": 8,
   "metadata": {
    "ExecuteTime": {
     "end_time": "2018-05-01T15:20:46.221766Z",
     "start_time": "2018-05-01T15:20:46.217508Z"
    }
   },
   "outputs": [
    {
     "name": "stdout",
     "output_type": "stream",
     "text": [
      "判断图G中是否存在边<I,j>\n",
      "exist\n"
     ]
    }
   ],
   "source": [
    "graph.exist_arc(3,0)"
   ]
  }
 ],
 "metadata": {
  "kernelspec": {
   "display_name": "Python 2",
   "language": "python",
   "name": "python2"
  },
  "language_info": {
   "codemirror_mode": {
    "name": "ipython",
    "version": 2
   },
   "file_extension": ".py",
   "mimetype": "text/x-python",
   "name": "python",
   "nbconvert_exporter": "python",
   "pygments_lexer": "ipython2",
   "version": "2.7.12"
  },
  "nbTranslate": {
   "displayLangs": [
    "*"
   ],
   "hotkey": "alt-t",
   "langInMainMenu": true,
   "sourceLang": "en",
   "targetLang": "fr",
   "useGoogleTranslate": true
  },
  "toc": {
   "nav_menu": {},
   "number_sections": true,
   "sideBar": true,
   "skip_h1_title": true,
   "toc_cell": false,
   "toc_position": {},
   "toc_section_display": "block",
   "toc_window_display": false
  },
  "varInspector": {
   "cols": {
    "lenName": 16,
    "lenType": 16,
    "lenVar": 40
   },
   "kernels_config": {
    "python": {
     "delete_cmd_postfix": "",
     "delete_cmd_prefix": "del ",
     "library": "var_list.py",
     "varRefreshCmd": "print(var_dic_list())"
    },
    "r": {
     "delete_cmd_postfix": ") ",
     "delete_cmd_prefix": "rm(",
     "library": "var_list.r",
     "varRefreshCmd": "cat(var_dic_list()) "
    }
   },
   "types_to_exclude": [
    "module",
    "function",
    "builtin_function_or_method",
    "instance",
    "_Feature"
   ],
   "window_display": false
  }
 },
 "nbformat": 4,
 "nbformat_minor": 2
}
