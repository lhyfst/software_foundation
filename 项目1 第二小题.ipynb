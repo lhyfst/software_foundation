{
 "cells": [
  {
   "cell_type": "markdown",
   "metadata": {},
   "source": [
    "已知一个按先序序列输入的字符序列，如abc,,de,g,,f,,,(其中逗号表示空节点)。<br>\n",
    "请建立二叉树并按中序和后序方式遍历二叉树，最后求出叶子节点个数和二叉树深度。"
   ]
  },
  {
   "cell_type": "code",
   "execution_count": 1,
   "metadata": {
    "ExecuteTime": {
     "end_time": "2018-05-01T14:34:11.624666Z",
     "start_time": "2018-05-01T14:34:10.663638Z"
    }
   },
   "outputs": [
    {
     "name": "stdout",
     "output_type": "stream",
     "text": [
      "Populating the interactive namespace from numpy and matplotlib\n"
     ]
    }
   ],
   "source": [
    "%pylab inline\n",
    "from pandas import DataFrame\n",
    "import ctypes\n",
    "\n",
    "def point(point_id):\n",
    "    return ctypes.cast(point_id, ctypes.py_object).value\n",
    "\n",
    "# id 为 0 是空节点\n",
    "class Node():\n",
    "    def __init__(self,ltree_id = 0,rtree_id = 0,data = 0):\n",
    "        self.ltree_id = ltree_id\n",
    "        self.rtree_id = rtree_id\n",
    "        self.data = data\n",
    "        \n",
    "    def qout(self,tree_id):\n",
    "        if tree_id == 0:\n",
    "            return\n",
    "        this_node = point(tree_id)\n",
    "        print this_node.data,\n",
    "        self.qout(this_node.ltree_id)\n",
    "        self.qout(this_node.rtree_id)\n",
    "        \n",
    "    def mout(self,tree_id):\n",
    "        if tree_id == 0:\n",
    "            return\n",
    "        this_node = point(tree_id)\n",
    "        self.mout(this_node.ltree_id)\n",
    "        print this_node.data,\n",
    "        self.mout(this_node.rtree_id)\n",
    "        \n",
    "    def hout(self,tree_id):\n",
    "        if tree_id == 0:\n",
    "            return\n",
    "        this_node = point(tree_id)\n",
    "        self.hout(this_node.ltree_id)\n",
    "        self.hout(this_node.rtree_id)\n",
    "        print this_node.data,\n",
    "\n",
    "class Tree():\n",
    "    def __init__(self,tree_string='abc,,de,g,,f,,,'):\n",
    "        self.tree_string_list = list(tree_string)\n",
    "        self.node_list = []\n",
    "        # 建立节点\n",
    "        for i in self.tree_string_list:\n",
    "            self.node_list.append(Node(data=i))\n",
    "            \n",
    "        # 生成树\n",
    "        self.find_subtree(0)\n",
    "        # 将逗号节点删掉，生成真正的树\n",
    "        for node in self.node_list:\n",
    "            try:\n",
    "                if point(node.ltree_id).data == ',':\n",
    "                    node.ltree_id = 0\n",
    "                if point(node.rtree_id).data == ',':\n",
    "                    node.rtree_id = 0\n",
    "            except:\n",
    "                pass\n",
    "        \n",
    "        self.root = self.node_list[0]\n",
    "  \n",
    "    \n",
    "    def find_ltree(self,base_node_idx):\n",
    "        if self.node_list[base_node_idx].ltree_id == 0:  # 如果当前节点还未找过左子树，则将其下一节点视为其左子树\n",
    "            self.node_list[base_node_idx].ltree_id = id(self.node_list[base_node_idx+1])\n",
    "        if self.node_list[base_node_idx+1].data != ',':\n",
    "            self.find_subtree(base_node_idx+1)\n",
    "\n",
    "    def find_rtree(self,base_node_idx):\n",
    "        for idx in range(base_node_idx+1,len(self.node_list)):\n",
    "            if id(self.node_list[idx]) not in [i.rtree_id for i in self.node_list] + [i.ltree_id for i in self.node_list]:\n",
    "                self.node_list[base_node_idx].rtree_id = id(self.node_list[idx])\n",
    "                if self.node_list[idx].data != ',':\n",
    "                    self.find_subtree(idx)\n",
    "                break\n",
    "\n",
    "\n",
    "    def find_subtree(self,base_node_idx):\n",
    "        self.find_ltree(base_node_idx)\n",
    "        self.find_rtree(base_node_idx)\n",
    "    \n",
    "    def tree_qout(self):\n",
    "        print '先序遍历: ',\n",
    "        self.root.qout(id(self.root))\n",
    "        print '\\n'\n",
    "        \n",
    "    def tree_mout(self):\n",
    "        print '中序遍历: ',\n",
    "        self.root.mout(id(self.root))\n",
    "        print '\\n'\n",
    "        \n",
    "    def tree_hout(self):\n",
    "        print '后序遍历: ',\n",
    "        self.root.hout(id(self.root))\n",
    "        print '\\n'\n",
    "        \n",
    "    def leaves_num(self):\n",
    "        print '叶子节点个数: ',\n",
    "        num = 0\n",
    "        for leaf in self.node_list:\n",
    "            if leaf.data != ',' and leaf.ltree_id == 0 and leaf.rtree_id == 0:\n",
    "                num += 1\n",
    "        print num\n",
    "        \n",
    "    def calculate_depth(self,leaf):\n",
    "        depth = 1\n",
    "        this_node = leaf\n",
    "        rtree_id_list = [i.rtree_id for i in self.node_list]\n",
    "        ltree_id_list = [i.ltree_id for i in self.node_list]\n",
    "        while True:\n",
    "            if id(this_node) in rtree_id_list + ltree_id_list:\n",
    "                depth += 1\n",
    "                try:\n",
    "                    father_idx = rtree_id_list.index(id(this_node))\n",
    "                except:\n",
    "                    father_idx = ltree_id_list.index(id(this_node))\n",
    "                this_node = self.node_list[father_idx]\n",
    "            else:\n",
    "                return depth\n",
    "            \n",
    "    \n",
    "    def depth(self):\n",
    "        print '深度: ',\n",
    "        max_depth = 0\n",
    "        for leaf in self.node_list:\n",
    "            if leaf.data != ',' and leaf.ltree_id == 0 and leaf.rtree_id == 0:\n",
    "                leaf_depth = self.calculate_depth(leaf)\n",
    "                max_depth = leaf_depth if leaf_depth > max_depth else max_depth\n",
    "        print max_depth"
   ]
  },
  {
   "cell_type": "code",
   "execution_count": 2,
   "metadata": {
    "ExecuteTime": {
     "end_time": "2018-05-01T14:34:13.100689Z",
     "start_time": "2018-05-01T14:34:13.088129Z"
    }
   },
   "outputs": [
    {
     "name": "stdout",
     "output_type": "stream",
     "text": [
      "先序遍历:  a b c d e g f \n",
      "\n",
      "中序遍历:  c b e g d f a \n",
      "\n",
      "后序遍历:  c g e f d b a \n",
      "\n",
      "叶子节点个数:  3\n",
      "深度:  5\n"
     ]
    }
   ],
   "source": [
    "tree = Tree()\n",
    "tree.tree_qout()\n",
    "tree.tree_mout()\n",
    "tree.tree_hout()\n",
    "tree.leaves_num()\n",
    "tree.depth()"
   ]
  },
  {
   "cell_type": "code",
   "execution_count": 3,
   "metadata": {
    "ExecuteTime": {
     "end_time": "2018-05-01T14:34:14.430155Z",
     "start_time": "2018-05-01T14:34:14.419536Z"
    }
   },
   "outputs": [
    {
     "name": "stdout",
     "output_type": "stream",
     "text": [
      "先序遍历:  A B D C \n",
      "\n",
      "中序遍历:  B D A C \n",
      "\n",
      "后序遍历:  D B C A \n",
      "\n",
      "叶子节点个数:  2\n",
      "深度:  3\n"
     ]
    }
   ],
   "source": [
    "tree = Tree('AB,D,,C,,')\n",
    "tree.tree_qout()\n",
    "tree.tree_mout()\n",
    "tree.tree_hout()\n",
    "tree.leaves_num()\n",
    "tree.depth()"
   ]
  },
  {
   "cell_type": "code",
   "execution_count": 4,
   "metadata": {
    "ExecuteTime": {
     "end_time": "2018-05-01T14:34:15.878064Z",
     "start_time": "2018-05-01T14:34:15.867647Z"
    }
   },
   "outputs": [
    {
     "name": "stdout",
     "output_type": "stream",
     "text": [
      "先序遍历:  A B C D E F G H I J K \n",
      "\n",
      "中序遍历:  C D B E F A H G J I K \n",
      "\n",
      "后序遍历:  D C F E B H J K I G A \n",
      "\n",
      "叶子节点个数:  5\n",
      "深度:  4\n"
     ]
    }
   ],
   "source": [
    "tree = Tree('ABC,D,,E,F,,GH,,IJ,,K,,')\n",
    "tree.tree_qout()\n",
    "tree.tree_mout()\n",
    "tree.tree_hout()\n",
    "tree.leaves_num()\n",
    "tree.depth()"
   ]
  },
  {
   "cell_type": "code",
   "execution_count": null,
   "metadata": {},
   "outputs": [],
   "source": []
  }
 ],
 "metadata": {
  "kernelspec": {
   "display_name": "Python 2",
   "language": "python",
   "name": "python2"
  },
  "language_info": {
   "codemirror_mode": {
    "name": "ipython",
    "version": 2
   },
   "file_extension": ".py",
   "mimetype": "text/x-python",
   "name": "python",
   "nbconvert_exporter": "python",
   "pygments_lexer": "ipython2",
   "version": "2.7.12"
  },
  "nbTranslate": {
   "displayLangs": [
    "*"
   ],
   "hotkey": "alt-t",
   "langInMainMenu": true,
   "sourceLang": "en",
   "targetLang": "fr",
   "useGoogleTranslate": true
  },
  "toc": {
   "nav_menu": {},
   "number_sections": true,
   "sideBar": true,
   "skip_h1_title": true,
   "toc_cell": false,
   "toc_position": {},
   "toc_section_display": "block",
   "toc_window_display": false
  },
  "varInspector": {
   "cols": {
    "lenName": 16,
    "lenType": 16,
    "lenVar": 40
   },
   "kernels_config": {
    "python": {
     "delete_cmd_postfix": "",
     "delete_cmd_prefix": "del ",
     "library": "var_list.py",
     "varRefreshCmd": "print(var_dic_list())"
    },
    "r": {
     "delete_cmd_postfix": ") ",
     "delete_cmd_prefix": "rm(",
     "library": "var_list.r",
     "varRefreshCmd": "cat(var_dic_list()) "
    }
   },
   "types_to_exclude": [
    "module",
    "function",
    "builtin_function_or_method",
    "instance",
    "_Feature"
   ],
   "window_display": false
  }
 },
 "nbformat": 4,
 "nbformat_minor": 2
}
