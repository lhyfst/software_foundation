{
 "cells": [
  {
   "cell_type": "code",
   "execution_count": 1,
   "metadata": {
    "ExecuteTime": {
     "end_time": "2018-03-21T05:32:59.546515Z",
     "start_time": "2018-03-21T05:32:59.535644Z"
    }
   },
   "outputs": [],
   "source": [
    "people = range(1,31)\n",
    "die = []\n",
    "point = 0\n",
    "to_kill = 1\n",
    "while len(people)>15:\n",
    "    if point == len(people):\n",
    "        point = 0\n",
    "    if to_kill%9==0:\n",
    "        die.append(people.pop(point))\n",
    "        point -= 1\n",
    "    to_kill += 1\n",
    "    if point != len(people):\n",
    "        point += 1"
   ]
  },
  {
   "cell_type": "code",
   "execution_count": 2,
   "metadata": {
    "ExecuteTime": {
     "end_time": "2018-03-21T05:33:02.566622Z",
     "start_time": "2018-03-21T05:33:02.549951Z"
    }
   },
   "outputs": [
    {
     "data": {
      "text/plain": [
       "[9, 18, 27, 6, 16, 26, 7, 19, 30, 12, 24, 8, 22, 5, 23]"
      ]
     },
     "execution_count": 2,
     "metadata": {},
     "output_type": "execute_result"
    }
   ],
   "source": [
    "die"
   ]
  },
  {
   "cell_type": "code",
   "execution_count": 12,
   "metadata": {
    "ExecuteTime": {
     "end_time": "2018-03-21T05:38:38.389509Z",
     "start_time": "2018-03-21T05:38:38.379837Z"
    }
   },
   "outputs": [],
   "source": [
    "people = range(1,31)\n",
    "die = []\n",
    "point = 0\n",
    "to_kill = 1\n",
    "while len(people)>15:\n",
    "    if to_kill%9==0:\n",
    "        die.append(people.pop(point))\n",
    "        point -= 1\n",
    "    point += 1\n",
    "    to_kill += 1\n",
    "    if point == len(people):\n",
    "        point = 0"
   ]
  }
 ],
 "metadata": {
  "kernelspec": {
   "display_name": "Python 2",
   "language": "python",
   "name": "python2"
  },
  "language_info": {
   "codemirror_mode": {
    "name": "ipython",
    "version": 2
   },
   "file_extension": ".py",
   "mimetype": "text/x-python",
   "name": "python",
   "nbconvert_exporter": "python",
   "pygments_lexer": "ipython2",
   "version": "2.7.12"
  },
  "nbTranslate": {
   "displayLangs": [
    "*"
   ],
   "hotkey": "alt-t",
   "langInMainMenu": true,
   "sourceLang": "en",
   "targetLang": "fr",
   "useGoogleTranslate": true
  },
  "toc": {
   "nav_menu": {},
   "number_sections": true,
   "sideBar": true,
   "skip_h1_title": true,
   "toc_cell": false,
   "toc_position": {},
   "toc_section_display": "block",
   "toc_window_display": false
  },
  "varInspector": {
   "cols": {
    "lenName": 16,
    "lenType": 16,
    "lenVar": 40
   },
   "kernels_config": {
    "python": {
     "delete_cmd_postfix": "",
     "delete_cmd_prefix": "del ",
     "library": "var_list.py",
     "varRefreshCmd": "print(var_dic_list())"
    },
    "r": {
     "delete_cmd_postfix": ") ",
     "delete_cmd_prefix": "rm(",
     "library": "var_list.r",
     "varRefreshCmd": "cat(var_dic_list()) "
    }
   },
   "types_to_exclude": [
    "module",
    "function",
    "builtin_function_or_method",
    "instance",
    "_Feature"
   ],
   "window_display": false
  }
 },
 "nbformat": 4,
 "nbformat_minor": 2
}
