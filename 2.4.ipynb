{
 "cells": [
  {
   "cell_type": "code",
   "execution_count": 1,
   "metadata": {
    "ExecuteTime": {
     "end_time": "2018-04-26T07:08:32.397256Z",
     "start_time": "2018-04-26T07:08:31.712818Z"
    }
   },
   "outputs": [
    {
     "name": "stdout",
     "output_type": "stream",
     "text": [
      "Populating the interactive namespace from numpy and matplotlib\n",
      "7\n"
     ]
    }
   ],
   "source": [
    "# 假设以双亲表示法作树的存储结构，写出双亲表示的类型说明，并编写求给定的树(结点数为n)的深度的算法。\n",
    "# 以下使用DataFrame来作为数据结构解决该问题。\n",
    "\n",
    "%pylab inline\n",
    "import pandas as pd\n",
    "from pandas import DataFrame\n",
    "\n",
    "# 随机生成一个树\n",
    "\n",
    "def generate_tree_df(nodes_num):\n",
    "    nodes_num = 100\n",
    "    data_list = random.randint(low=0,high=10000,size=(nodes_num,)).tolist()\n",
    "    parent_list = [-1]\n",
    "    while len(parent_list) <= nodes_num:\n",
    "        for node in parent_list:\n",
    "            tmp_list = random.randint(low=0,high=len(parent_list)+1,size=(random.randint(2))).tolist()\n",
    "            parent_list.extend(tmp_list)\n",
    "    parent_list = parent_list[:100]\n",
    "    parent_list.sort()\n",
    "    \n",
    "    tree_df = DataFrame()\n",
    "    tree_df['data'] = data_list\n",
    "    tree_df['parent'] = parent_list\n",
    "    return tree_df\n",
    "\n",
    "def calculate_deep(df):\n",
    "    df['deep'] = 1\n",
    "    for idx in range(1,len(df)):\n",
    "        last_deep = df.iloc[df.iloc[idx].parent].deep\n",
    "        df['deep'][idx] = last_deep+1\n",
    "    return max(df['deep'])\n",
    "\n",
    "tree_df = generate_tree_df(100)\n",
    "\n",
    "print calculate_deep(tree_df)"
   ]
  }
 ],
 "metadata": {
  "kernelspec": {
   "display_name": "Python 2",
   "language": "python",
   "name": "python2"
  },
  "language_info": {
   "codemirror_mode": {
    "name": "ipython",
    "version": 2
   },
   "file_extension": ".py",
   "mimetype": "text/x-python",
   "name": "python",
   "nbconvert_exporter": "python",
   "pygments_lexer": "ipython2",
   "version": "2.7.12"
  },
  "nbTranslate": {
   "displayLangs": [
    "*"
   ],
   "hotkey": "alt-t",
   "langInMainMenu": true,
   "sourceLang": "en",
   "targetLang": "fr",
   "useGoogleTranslate": true
  },
  "toc": {
   "nav_menu": {},
   "number_sections": true,
   "sideBar": true,
   "skip_h1_title": true,
   "toc_cell": false,
   "toc_position": {},
   "toc_section_display": "block",
   "toc_window_display": false
  },
  "varInspector": {
   "cols": {
    "lenName": 16,
    "lenType": 16,
    "lenVar": 40
   },
   "kernels_config": {
    "python": {
     "delete_cmd_postfix": "",
     "delete_cmd_prefix": "del ",
     "library": "var_list.py",
     "varRefreshCmd": "print(var_dic_list())"
    },
    "r": {
     "delete_cmd_postfix": ") ",
     "delete_cmd_prefix": "rm(",
     "library": "var_list.r",
     "varRefreshCmd": "cat(var_dic_list()) "
    }
   },
   "types_to_exclude": [
    "module",
    "function",
    "builtin_function_or_method",
    "instance",
    "_Feature"
   ],
   "window_display": false
  }
 },
 "nbformat": 4,
 "nbformat_minor": 2
}
