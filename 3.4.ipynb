{
 "cells": [
  {
   "cell_type": "code",
   "execution_count": 1,
   "metadata": {
    "ExecuteTime": {
     "end_time": "2018-05-02T08:08:28.364164Z",
     "start_time": "2018-05-02T08:08:28.108907Z"
    }
   },
   "outputs": [
    {
     "name": "stdout",
     "output_type": "stream",
     "text": [
      "[0, 1, 2, 3, 4, 5, 6, 7]\n"
     ]
    }
   ],
   "source": [
    "import numpy as np\n",
    "\n",
    "class Graph():\n",
    "    def __init__(self, relations):\n",
    "        self.relations = relations\n",
    "\n",
    "    def traverse(self, start_point):\n",
    "        traverse_list = [start_point]\n",
    "        now_points_list = [start_point]\n",
    "        next_points_list = []\n",
    "        while len(traverse_list) < len(self.relations):\n",
    "            for now_point in now_points_list:\n",
    "                for next_point_idx in range(len(self.relations)):\n",
    "                    tmp_list = []\n",
    "                    next_point_value = relations[now_point, next_point_idx]\n",
    "                    if next_point_value == 1 and next_point_idx not in traverse_list:\n",
    "                        tmp_list.append(next_point_idx)\n",
    "                        traverse_list.append(next_point_idx)\n",
    "#                         print 'next_point_idx',next_point_idx\n",
    "                    next_points_list.extend(tmp_list)\n",
    "            now_points_list = next_points_list\n",
    "            next_points_list = []\n",
    "        return traverse_list\n",
    "\n",
    "\n",
    "relations = np.array([[0,1,1,0,0,0,0,0],\n",
    "                     [1,0,0,1,1,0,0,0],\n",
    "                     [1,0,0,0,0,1,1,0],\n",
    "                     [0,1,0,0,0,0,0,1],\n",
    "                     [0,1,0,0,0,0,0,1],\n",
    "                     [0,0,1,0,0,0,0,0],\n",
    "                     [0,0,1,0,0,0,0,0],\n",
    "                     [0,0,0,1,1,0,0,0]])\n",
    "\n",
    "# relations = np.array([[0,1,1,0,0,0,0,1],\n",
    "#                      [1,0,0,1,1,0,0,0],\n",
    "#                      [1,0,0,0,0,1,1,0],\n",
    "#                      [0,1,0,0,0,0,0,1],\n",
    "#                      [0,1,0,0,0,0,0,1],\n",
    "#                      [0,0,1,0,0,0,0,0],\n",
    "#                      [0,0,1,0,0,0,0,0],\n",
    "#                      [1,0,0,1,1,0,0,0]])\n",
    "\n",
    "graph = Graph(relations)\n",
    "print graph.traverse(0)"
   ]
  }
 ],
 "metadata": {
  "kernelspec": {
   "display_name": "Python 2",
   "language": "python",
   "name": "python2"
  },
  "language_info": {
   "codemirror_mode": {
    "name": "ipython",
    "version": 2
   },
   "file_extension": ".py",
   "mimetype": "text/x-python",
   "name": "python",
   "nbconvert_exporter": "python",
   "pygments_lexer": "ipython2",
   "version": "2.7.12"
  },
  "nbTranslate": {
   "displayLangs": [
    "*"
   ],
   "hotkey": "alt-t",
   "langInMainMenu": true,
   "sourceLang": "en",
   "targetLang": "fr",
   "useGoogleTranslate": true
  },
  "toc": {
   "nav_menu": {},
   "number_sections": true,
   "sideBar": true,
   "skip_h1_title": true,
   "toc_cell": false,
   "toc_position": {},
   "toc_section_display": "block",
   "toc_window_display": false
  },
  "varInspector": {
   "cols": {
    "lenName": 16,
    "lenType": 16,
    "lenVar": 40
   },
   "kernels_config": {
    "python": {
     "delete_cmd_postfix": "",
     "delete_cmd_prefix": "del ",
     "library": "var_list.py",
     "varRefreshCmd": "print(var_dic_list())"
    },
    "r": {
     "delete_cmd_postfix": ") ",
     "delete_cmd_prefix": "rm(",
     "library": "var_list.r",
     "varRefreshCmd": "cat(var_dic_list()) "
    }
   },
   "types_to_exclude": [
    "module",
    "function",
    "builtin_function_or_method",
    "instance",
    "_Feature"
   ],
   "window_display": false
  }
 },
 "nbformat": 4,
 "nbformat_minor": 2
}
