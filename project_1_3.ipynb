{
 "cells": [
  {
   "cell_type": "code",
   "execution_count": 1,
   "metadata": {
    "ExecuteTime": {
     "end_time": "2018-06-16T14:40:18.000717Z",
     "start_time": "2018-06-16T14:40:17.956389Z"
    }
   },
   "outputs": [
    {
     "name": "stdout",
     "output_type": "stream",
     "text": [
      "[5, 4]\n"
     ]
    }
   ],
   "source": [
    "# dijkstra算法实现，有向图和路由的源点作为函数的输入，最短路径最为输出\n",
    "def dijkstra(graph,src):\n",
    "    # 判断图是否为空，如果为空直接退出\n",
    "    if graph is None:\n",
    "        return None\n",
    "    nodes = [i for i in range(len(graph))]  # 获取图中所有节点\n",
    "    visited=[]  # 表示已经路由到最短路径的节点集合\n",
    "    if src in nodes:\n",
    "        visited.append(src)\n",
    "        nodes.remove(src)\n",
    "    else:\n",
    "        return None\n",
    "    distance={src:0}  # 记录源节点到各个节点的距离\n",
    "    for i in nodes:\n",
    "        distance[i]=graph[src][i]  # 初始化\n",
    "    path={src:{src:[]}}  # 记录源节点到每个节点的路径\n",
    "    k=pre=src\n",
    "    while nodes:\n",
    "        mid_distance=float('inf')\n",
    "        for v in visited:\n",
    "            for d in nodes:\n",
    "                new_distance = graph[src][v]+graph[v][d]\n",
    "                if new_distance < mid_distance:\n",
    "                    mid_distance=new_distance\n",
    "                    graph[src][d]=new_distance  # 进行距离更新\n",
    "                    k=d\n",
    "                    pre=v\n",
    "        distance[k]=mid_distance  # 最短路径\n",
    "        path[src][k]=[i for i in path[src][pre]]\n",
    "        path[src][k].append(k)\n",
    "        # 更新两个节点集合\n",
    "        visited.append(k)\n",
    "        nodes.remove(k)\n",
    "#         print(visited,nodes)  # 输出节点的添加过程\n",
    "    return distance,path\n",
    "\n",
    "def dijkstra_wraper(graph_list, start_point, end_point):\n",
    "    distance, path = dijkstra(graph_list, start_point)\n",
    "    if end_point not in distance:\n",
    "        print \"There is no path\"\n",
    "        return\n",
    "    else:\n",
    "        print path[start_point][end_point]\n",
    "        return\n",
    "\n",
    "\n",
    "if __name__ == '__main__':\n",
    "    graph_list = [ [0, 2, 1, 4, 5, 1],  # 数值为边的长度\n",
    "            [1, 0, 4, 2, 3, 4],\n",
    "            [2, 1, 0, 1, 2, 4],\n",
    "            [3, 5, 2, 0, 3, 3],\n",
    "            [2, 4, 3, 4, 0, 1],\n",
    "            [3, 4, 7, 3, 1, 0]]\n",
    "\n",
    "    dijkstra_wraper(graph_list, 0, 4)"
   ]
  }
 ],
 "metadata": {
  "kernelspec": {
   "display_name": "Python 2",
   "language": "python",
   "name": "python2"
  },
  "language_info": {
   "codemirror_mode": {
    "name": "ipython",
    "version": 2
   },
   "file_extension": ".py",
   "mimetype": "text/x-python",
   "name": "python",
   "nbconvert_exporter": "python",
   "pygments_lexer": "ipython2",
   "version": "2.7.12"
  },
  "nbTranslate": {
   "displayLangs": [
    "*"
   ],
   "hotkey": "alt-t",
   "langInMainMenu": true,
   "sourceLang": "en",
   "targetLang": "fr",
   "useGoogleTranslate": true
  },
  "toc": {
   "nav_menu": {},
   "number_sections": true,
   "sideBar": true,
   "skip_h1_title": false,
   "title_cell": "Table of Contents",
   "title_sidebar": "Contents",
   "toc_cell": false,
   "toc_position": {},
   "toc_section_display": true,
   "toc_window_display": false
  },
  "varInspector": {
   "cols": {
    "lenName": 16,
    "lenType": 16,
    "lenVar": 40
   },
   "kernels_config": {
    "python": {
     "delete_cmd_postfix": "",
     "delete_cmd_prefix": "del ",
     "library": "var_list.py",
     "varRefreshCmd": "print(var_dic_list())"
    },
    "r": {
     "delete_cmd_postfix": ") ",
     "delete_cmd_prefix": "rm(",
     "library": "var_list.r",
     "varRefreshCmd": "cat(var_dic_list()) "
    }
   },
   "types_to_exclude": [
    "module",
    "function",
    "builtin_function_or_method",
    "instance",
    "_Feature"
   ],
   "window_display": false
  }
 },
 "nbformat": 4,
 "nbformat_minor": 2
}
